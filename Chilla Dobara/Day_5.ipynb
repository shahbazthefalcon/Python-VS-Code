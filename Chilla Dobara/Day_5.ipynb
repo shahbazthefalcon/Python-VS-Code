{
 "cells": [
  {
   "cell_type": "markdown",
   "metadata": {},
   "source": [
    "#  Body Mass Index Function\n",
    "\n"
   ]
  },
  {
   "cell_type": "markdown",
   "metadata": {},
   "source": [
    "# My Version"
   ]
  },
  {
   "cell_type": "code",
   "execution_count": 32,
   "metadata": {},
   "outputs": [],
   "source": [
    "def b_m_i(weight,height):\n",
    "        weight= float(input(\"Type your weight in KGs=\"))\n",
    "        height= float(input(\"Type your height in CMs=\"))\n",
    "        BMI = weight/(height/100)**2\n",
    "        return BMI\n",
    "body=b_m_i(78,173)\n",
    "print(\"Your BMI is =\",body)\n",
    "\n",
    "if body<=18.5:\n",
    "        print(\"You are underweight\")\n",
    "elif body<=24.9:  \n",
    "        print(\"You are healty\")\n",
    "elif body<=29.5:  \n",
    "        print(\"You are Over Weight\")\n",
    "elif body<=33.9:  \n",
    "        print(\"You are Bulky\")\n",
    "elif body<=38.9:  \n",
    "        print(\"You are Obese\")\n",
    "elif body<=44.5:  \n",
    "        print(\"You are Very Obese\")\n",
    "else:\n",
    "       print(\"Allah Ki Panah Kam Khaya Krain Gym Join krain\")     \n",
    "\n",
    "\n"
   ]
  },
  {
   "cell_type": "markdown",
   "metadata": {},
   "source": [
    "# CHILLA VERSION"
   ]
  },
  {
   "cell_type": "code",
   "execution_count": 31,
   "metadata": {},
   "outputs": [
    {
     "name": "stdout",
     "output_type": "stream",
     "text": [
      "Astaghfirullah\n"
     ]
    },
    {
     "data": {
      "text/plain": [
       "39.06249999999999"
      ]
     },
     "execution_count": 31,
     "metadata": {},
     "output_type": "execute_result"
    }
   ],
   "source": [
    "weight= float(input(\"Please Type your weight in Kilograms=\"))\n",
    "height= float(input(\"Please Type your height in Kilograms=\"))\n",
    "\n",
    "def calc_bmi (weight,height):\n",
    "    BMI = weight/(height/100)**2\n",
    "    if BMI<=18.5:\n",
    "        print (\"You are underweight\")\n",
    "    elif BMI<=24.9:\n",
    "        print(\"You are healthy\")\n",
    "    elif BMI<=29.9:\n",
    "        print(\"You are Over weight\")\n",
    "    elif BMI<=34.9:\n",
    "        print(\"You are Obese\")\n",
    "    elif BMI<=38.9:\n",
    "        print(\"You are extremly obese\")\n",
    "    else: \n",
    "        print(\"Astaghfirullah\")\n",
    "    return BMI \n",
    "calc_bmi(weight,height)"
   ]
  }
 ],
 "metadata": {
  "kernelspec": {
   "display_name": "Python 3.10.6 64-bit",
   "language": "python",
   "name": "python3"
  },
  "language_info": {
   "codemirror_mode": {
    "name": "ipython",
    "version": 3
   },
   "file_extension": ".py",
   "mimetype": "text/x-python",
   "name": "python",
   "nbconvert_exporter": "python",
   "pygments_lexer": "ipython3",
   "version": "3.10.6"
  },
  "orig_nbformat": 4,
  "vscode": {
   "interpreter": {
    "hash": "3196968d684371006099b3d55edeef8ed90365227a30deaef86e5d4aa8519be0"
   }
  }
 },
 "nbformat": 4,
 "nbformat_minor": 2
}
